{
 "cells": [
  {
   "cell_type": "markdown",
   "metadata": {},
   "source": [
    "Bibliotecas"
   ]
  },
  {
   "cell_type": "code",
   "execution_count": 1,
   "metadata": {},
   "outputs": [],
   "source": [
    "import requests\n",
    "import pandas as pd\n",
    "import sqlite3"
   ]
  },
  {
   "cell_type": "markdown",
   "metadata": {},
   "source": [
    "URL"
   ]
  },
  {
   "cell_type": "code",
   "execution_count": 2,
   "metadata": {},
   "outputs": [],
   "source": [
    "url = 'https://pokeapi.co/api/v2/pokemon/ditto'"
   ]
  },
  {
   "cell_type": "markdown",
   "metadata": {},
   "source": [
    "Funções"
   ]
  },
  {
   "cell_type": "code",
   "execution_count": null,
   "metadata": {},
   "outputs": [],
   "source": [
    "resposta = requests.get(url)\n",
    "\n",
    "resposta.status_code\n",
    "\n",
    "if resposta.status_code == 200:\n",
    "    data_json = resposta.json()\n",
    "else:\n",
    "    printf('Nao foi possivel acessar sua API {url}')\n",
    "\n",
    "def extrair_tabelas_pokemon(url):\n",
    "    resposta = requests.get(url)\n",
    "    dados = resposta.json()\n",
    "    return dados\n",
    "\n",
    "dados_pokemon = extrair_tabelas_pokemon(url)\n",
    "\n",
    "def criar_dataframe(dados_pokemon):\n",
    "    df_habilidades = pd.DataFrame(dados_pokemon['abilities'])\n",
    "    df_status = pd.DataFrame(dados_pokemon['stats'])\n",
    "    df_tipos = pd.DataFrame(dados_pokemon['types'])\n",
    "    return df_habilidades, df_status, df_tipos\n",
    "\n",
    "def validar_dados(conn):\n",
    "    cursor = conn.cursor()\n",
    "    cursor.execute(\"SELECT ability, COUNT(*) FROM habilidades GROUP BY ability HAVING COUNT(*) > 1\")\n",
    "    duplicatas = cursor.fetchall()\n",
    "    if duplicatas:\n",
    "        print(\"tem habilidades duplicadas:\", duplicatas)\n",
    "\n",
    "    cursor.execute (\"SELECT * FROM stats WHERE NOT base_stat IS INTEGER\")\n",
    "    tipos_invalidos = cursor.fetchall()\n",
    "    if tipos_invalidos:\n",
    "        print(\"Possui tipos de dados invalidos na coluna 'base_stat':\", tipos_invalidos)\n"
   ]
  },
  {
   "cell_type": "markdown",
   "metadata": {},
   "source": [
    "Criando Tabela"
   ]
  },
  {
   "cell_type": "code",
   "execution_count": 43,
   "metadata": {},
   "outputs": [],
   "source": [
    "def criar_tabelas(conn):\n",
    "    cursor = conn.cursor()\n",
    "    cursor.execute(\"\"\"\n",
    "    CREATE TABLE IF NOT EXISTS tipos (\n",
    "    id INTEGER PRIMARY KEY,\n",
    "    nome TEXT,\n",
    "    tipo1 TEXT,\n",
    "    tipo2 TEXT\n",
    "    )\n",
    "\"\"\")\n",
    "    \n",
    "    cursor.execute(\"\"\"\n",
    "\n",
    "     CREATE TABLE IF NOT EXISTS habilidades (\n",
    "     id INTEGER PRIMARY KEY,\n",
    "     nome_habilidade TEXT,\n",
    "     pokemon_id INTEGER,\n",
    "     FOREIGN KEY(pokemon_id) REFERENCES pokemon(id)\n",
    "     )\n",
    "\"\"\")\n",
    "    \n",
    "    cursor.execute(\"\"\"\n",
    "\n",
    "    CREATE TABLE IF NOT EXISTS stats (\n",
    "    id INTEGER PRIMARY KEY,\n",
    "    pokemon_id INTEGER,\n",
    "    hp INTEGER,\n",
    "    ataque INTEGER,\n",
    "    defesa INTEGER,\n",
    "    ataque_especial INTEGER,\n",
    "    defesa_especial INTEGER,\n",
    "    velocidade INTEGER,\n",
    "    FOREIGN KEY(pokemon_id) REFERENCES pokemon(id)\n",
    ")\n",
    " \"\"\")\n",
    "\n",
    "\n",
    "\n",
    "conn.commit()\n"
   ]
  },
  {
   "cell_type": "markdown",
   "metadata": {},
   "source": [
    "Tratamento dos dados"
   ]
  },
  {
   "cell_type": "code",
   "execution_count": 47,
   "metadata": {},
   "outputs": [],
   "source": [
    "def inserir_dados(conn, df_tipos, df_status, df_habilidades):\n",
    "    df_tipos.to_sql('tipos', conn, if_exists='append', index=False)\n",
    "    df_status.to_sql('status', conn, if_exists='append', index=False)\n",
    "    df_habilidades.to_sql('habilidades', conn, if_exists='append', index=False)"
   ]
  },
  {
   "cell_type": "code",
   "execution_count": null,
   "metadata": {},
   "outputs": [],
   "source": [
    "df_habilidades.dropna(inplace=True)\n"
   ]
  },
  {
   "cell_type": "markdown",
   "metadata": {},
   "source": [
    "Conectar ao banco"
   ]
  },
  {
   "cell_type": "code",
   "execution_count": 49,
   "metadata": {},
   "outputs": [],
   "source": [
    "def salvar_dados():\n",
    "    conn = sqlite3.connect('pokedex.db')\n",
    "    criar_tabelas(conn)\n",
    "\n",
    "    df_habilidades, df_status, df_tipos = criar_dataframe(dados_pokemon)\n",
    "    inserir_dados(conn, df_tipos, df_status, df_habilidades)\n",
    "\n",
    "    validar_dados(conn)\n",
    "\n",
    "    conn.close()"
   ]
  }
 ],
 "metadata": {
  "kernelspec": {
   "display_name": "Python 3",
   "language": "python",
   "name": "python3"
  },
  "language_info": {
   "codemirror_mode": {
    "name": "ipython",
    "version": 3
   },
   "file_extension": ".py",
   "mimetype": "text/x-python",
   "name": "python",
   "nbconvert_exporter": "python",
   "pygments_lexer": "ipython3",
   "version": "3.11.0"
  }
 },
 "nbformat": 4,
 "nbformat_minor": 2
}
