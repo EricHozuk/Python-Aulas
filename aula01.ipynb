{
 "cells": [
  {
   "cell_type": "code",
   "execution_count": 8,
   "metadata": {},
   "outputs": [
    {
     "name": "stdout",
     "output_type": "stream",
     "text": [
      "Seu nome e Eric, voce tem 29\n"
     ]
    }
   ],
   "source": [
    "nome = input('Ola, digite seu nome:')\n",
    "idade = input('qual sua idade:')\n",
    "print(f'Seu nome e {nome}, voce tem {idade} anos')"
   ]
  },
  {
   "cell_type": "code",
   "execution_count": 10,
   "metadata": {},
   "outputs": [
    {
     "name": "stdout",
     "output_type": "stream",
     "text": [
      "True\n"
     ]
    }
   ],
   "source": [
    "#\n",
    "idade_joao = 22\n",
    "print(idade_joao > 9 and idade_joao<= 31)"
   ]
  },
  {
   "cell_type": "markdown",
   "metadata": {},
   "source": [
    "Segundo akira Toriyama, o modo super sayajin de dragon ball  é acionado quando o sayajin está com emoção muito forte, ou determinado, estando em situação de perigo ou enfrentando adversário muito poderoso."
   ]
  },
  {
   "cell_type": "code",
   "execution_count": null,
   "metadata": {},
   "outputs": [],
   "source": [
    "#Goku viu Frisa atacando seu amigo kuririn. Goku sente uma emoção muito forte e está enfrentando um adversário poderoso. Goku se transforma em super sayajin?\n",
    "poder_sayajin = poder_sayajin > = 8001\n",
    "\n",
    "forte = 8001\n",
    "determinado = 8001 \n",
    "\n",
    "sayajin = forte or determinado\n"
   ]
  }
 ],
 "metadata": {
  "kernelspec": {
   "display_name": "Python 3",
   "language": "python",
   "name": "python3"
  },
  "language_info": {
   "codemirror_mode": {
    "name": "ipython",
    "version": 3
   },
   "file_extension": ".py",
   "mimetype": "text/x-python",
   "name": "python",
   "nbconvert_exporter": "python",
   "pygments_lexer": "ipython3",
   "version": "3.11.0"
  }
 },
 "nbformat": 4,
 "nbformat_minor": 2
}
