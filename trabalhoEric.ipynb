{
 "cells": [
  {
   "cell_type": "code",
   "execution_count": 7,
   "metadata": {},
   "outputs": [],
   "source": [
    "import requests"
   ]
  },
  {
   "cell_type": "code",
   "execution_count": 8,
   "metadata": {},
   "outputs": [],
   "source": [
    "import pandas as pd"
   ]
  },
  {
   "cell_type": "code",
   "execution_count": 5,
   "metadata": {},
   "outputs": [],
   "source": [
    "url = 'https://pokeapi.co/api/v2/pokemon/ditto'"
   ]
  },
  {
   "cell_type": "code",
   "execution_count": 9,
   "metadata": {},
   "outputs": [],
   "source": [
    "resposta = requests.get(url)"
   ]
  },
  {
   "cell_type": "code",
   "execution_count": 10,
   "metadata": {},
   "outputs": [
    {
     "data": {
      "text/plain": [
       "200"
      ]
     },
     "execution_count": 10,
     "metadata": {},
     "output_type": "execute_result"
    }
   ],
   "source": [
    "resposta.status_code"
   ]
  },
  {
   "cell_type": "code",
   "execution_count": 11,
   "metadata": {},
   "outputs": [],
   "source": [
    "if resposta.status_code == 200:\n",
    "    data_json = resposta.json()\n",
    "else:\n",
    "    printf('Nao foi possivel acessar sua API')    "
   ]
  },
  {
   "cell_type": "code",
   "execution_count": 18,
   "metadata": {},
   "outputs": [],
   "source": [
    "def extrair_tabelas_pokemon(url):\n",
    "    resposta = requests.get(url)\n",
    "    dados = resposta.json()\n",
    "    return dados"
   ]
  },
  {
   "cell_type": "code",
   "execution_count": 16,
   "metadata": {},
   "outputs": [],
   "source": [
    "dados_pokemon = extrair_tabelas_pokemon(url)"
   ]
  },
  {
   "cell_type": "code",
   "execution_count": 28,
   "metadata": {},
   "outputs": [],
   "source": [
    "def criar_dataframe(dados_pokemon):\n",
    "    df_habilidades = pd.DataFrame(dados_pokemon['abilities'])\n",
    "    df_status = pd.DataFrame(dados_pokemon['stats'])\n",
    "    df_tipos = pd.DataFrame(dados_pokemon['types'])\n",
    "    return df_habilidades, df_status, df_tipos"
   ]
  },
  {
   "cell_type": "code",
   "execution_count": 30,
   "metadata": {},
   "outputs": [],
   "source": [
    "df_habilidades, df_stats, df_tipos = criar_dataframe(dados_pokemon)"
   ]
  },
  {
   "cell_type": "markdown",
   "metadata": {},
   "source": [
    "Ver habilidades"
   ]
  },
  {
   "cell_type": "code",
   "execution_count": 31,
   "metadata": {},
   "outputs": [
    {
     "name": "stdout",
     "output_type": "stream",
     "text": [
      "Habilidades:\n",
      "                                             ability  is_hidden  slot\n",
      "0  {'name': 'limber', 'url': 'https://pokeapi.co/...      False     1\n",
      "1  {'name': 'imposter', 'url': 'https://pokeapi.c...       True     3\n"
     ]
    }
   ],
   "source": [
    "print(\"Habilidades:\")\n",
    "print(df_habilidades)"
   ]
  },
  {
   "cell_type": "markdown",
   "metadata": {},
   "source": [
    "Ver status"
   ]
  },
  {
   "cell_type": "code",
   "execution_count": 34,
   "metadata": {},
   "outputs": [
    {
     "name": "stdout",
     "output_type": "stream",
     "text": [
      "Status:\n",
      "   base_stat  effort                                               stat\n",
      "0         48       1  {'name': 'hp', 'url': 'https://pokeapi.co/api/...\n",
      "1         48       0  {'name': 'attack', 'url': 'https://pokeapi.co/...\n",
      "2         48       0  {'name': 'defense', 'url': 'https://pokeapi.co...\n",
      "3         48       0  {'name': 'special-attack', 'url': 'https://pok...\n",
      "4         48       0  {'name': 'special-defense', 'url': 'https://po...\n",
      "5         48       0  {'name': 'speed', 'url': 'https://pokeapi.co/a...\n"
     ]
    }
   ],
   "source": [
    "print(\"Status:\")\n",
    "print(df_stats)"
   ]
  },
  {
   "cell_type": "markdown",
   "metadata": {},
   "source": [
    "Ver tipo"
   ]
  },
  {
   "cell_type": "code",
   "execution_count": 35,
   "metadata": {},
   "outputs": [
    {
     "name": "stdout",
     "output_type": "stream",
     "text": [
      "Tipos:\n",
      "   slot                                               type\n",
      "0     1  {'name': 'normal', 'url': 'https://pokeapi.co/...\n"
     ]
    }
   ],
   "source": [
    "print(\"Tipos:\")\n",
    "print(df_tipos)"
   ]
  }
 ],
 "metadata": {
  "kernelspec": {
   "display_name": "Python 3",
   "language": "python",
   "name": "python3"
  },
  "language_info": {
   "codemirror_mode": {
    "name": "ipython",
    "version": 3
   },
   "file_extension": ".py",
   "mimetype": "text/x-python",
   "name": "python",
   "nbconvert_exporter": "python",
   "pygments_lexer": "ipython3",
   "version": "3.11.0"
  }
 },
 "nbformat": 4,
 "nbformat_minor": 2
}
